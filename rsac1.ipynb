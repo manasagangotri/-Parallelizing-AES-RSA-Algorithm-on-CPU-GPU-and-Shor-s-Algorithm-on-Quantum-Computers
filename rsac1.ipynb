{
  "nbformat": 4,
  "nbformat_minor": 0,
  "metadata": {
    "colab": {
      "provenance": []
    },
    "kernelspec": {
      "name": "python3",
      "display_name": "Python 3"
    },
    "language_info": {
      "name": "python"
    }
  },
  "cells": [
    {
      "cell_type": "code",
      "execution_count": null,
      "metadata": {
        "colab": {
          "base_uri": "https://localhost:8080/"
        },
        "id": "Hgev_tobnPq_",
        "outputId": "54a6f92e-c28d-4f20-d307-bede0a94ed4e"
      },
      "outputs": [
        {
          "output_type": "stream",
          "name": "stdout",
          "text": [
            "Requirement already satisfied: cryptography in /usr/local/lib/python3.10/dist-packages (42.0.7)\n",
            "Requirement already satisfied: cffi>=1.12 in /usr/local/lib/python3.10/dist-packages (from cryptography) (1.16.0)\n",
            "Requirement already satisfied: pycparser in /usr/local/lib/python3.10/dist-packages (from cffi>=1.12->cryptography) (2.22)\n"
          ]
        }
      ],
      "source": [
        "pip install cryptography"
      ]
    },
    {
      "cell_type": "code",
      "source": [
        "import time\n",
        "from cryptography.hazmat.primitives.asymmetric import rsa\n",
        "from cryptography.hazmat.primitives.asymmetric import padding\n",
        "from cryptography.hazmat.primitives import serialization, hashes\n",
        "\n",
        "# Function to generate RSA keys\n",
        "def generate_keys():\n",
        "    start_time = time.time()\n",
        "    private_key = rsa.generate_private_key(\n",
        "        public_exponent=65537,\n",
        "        key_size=2048,\n",
        "    )\n",
        "    end_time = time.time()\n",
        "    print(f\"Key Generation Time: {end_time - start_time} seconds\")\n",
        "\n",
        "    public_key = private_key.public_key()\n",
        "    return private_key, public_key\n",
        "\n",
        "# Function to encrypt a message\n",
        "def encrypt_message(public_key, message):\n",
        "    start_time = time.time()\n",
        "    ciphertext = public_key.encrypt(\n",
        "        message.encode(),\n",
        "        padding.OAEP(\n",
        "            mgf=padding.MGF1(algorithm=hashes.SHA256()),\n",
        "            algorithm=hashes.SHA256(),\n",
        "            label=None\n",
        "        )\n",
        "    )\n",
        "    end_time = time.time()\n",
        "    print(f\"Encryption Time: {end_time - start_time} seconds\")\n",
        "    return ciphertext\n",
        "\n",
        "# Function to decrypt a message\n",
        "def decrypt_message(private_key, ciphertext):\n",
        "    start_time = time.time()\n",
        "    decrypted_message = private_key.decrypt(\n",
        "        ciphertext,\n",
        "        padding.OAEP(\n",
        "            mgf=padding.MGF1(algorithm=hashes.SHA256()),\n",
        "            algorithm=hashes.SHA256(),\n",
        "            label=None\n",
        "        )\n",
        "    )\n",
        "    end_time = time.time()\n",
        "    print(f\"Decryption Time: {end_time - start_time} seconds\")\n",
        "    return decrypted_message.decode()\n",
        "\n",
        "# Main program\n",
        "def main():\n",
        "    private_key, public_key = generate_keys()\n",
        "\n",
        "    message = input(\"Enter the message to encrypt: \")\n",
        "\n",
        "    ciphertext = encrypt_message(public_key, message)\n",
        "    print(\"Encrypted message:\", ciphertext)\n",
        "\n",
        "    decrypted_message = decrypt_message(private_key, ciphertext)\n",
        "    print(\"Decrypted message:\", decrypted_message)\n",
        "\n",
        "if __name__ == \"__main__\":\n",
        "    main()\n"
      ],
      "metadata": {
        "colab": {
          "base_uri": "https://localhost:8080/"
        },
        "id": "Tcdb15Hkn1Fx",
        "outputId": "fb24dbad-7150-4881-db95-0969fa8c96b1"
      },
      "execution_count": null,
      "outputs": [
        {
          "output_type": "stream",
          "name": "stdout",
          "text": [
            "Key Generation Time: 0.03011918067932129 seconds\n",
            "Enter the message to encrypt: hello\n",
            "Encryption Time: 0.0007681846618652344 seconds\n",
            "Encrypted message: b'\\x92\\x9c\\x98\\x7f\\x9f*h\\x0e\\x91\\xb5u(\\xb0*x\\xaa\\xd7\\x8f\\x08\\xdfdzh\\x88\\xca\\x9e\\xe4I#d\\xe7b[O\\xb1\\x9b\\xd0\\xd8\\x80\\xd8ov*|Cl\\x89c{\\xaf\\xadpB\\xca\\xe1\\x02\\xfb\\xab\\x0eA\\x1c\\xd1\\x81\\xe3`\\xfcg\\x13Y\\xd8Q\\'\\x93W\\xc6\\xa9\\x05\\xe5\\t\\xd51\\x85\\xbbT\\xe1\\xe4\\rS\\xda\\x9fri\\xbb\\xd1\\xe0\\x87\\xf0-R\\xc7|dv\\x88\\xc0\\xed\\x19\\x92\\xd6Us)\\x90y\\xa1Q%>\\x18\\x1c\\xc9\"v\\xab\\xeb>\\xea\\xc4\\x83,\\x12\\xebA\\x11B\\x94_\\r\\xc4\\x95\\x99Qx\\x04\\xa0\\xe9 \\xcc\\xae\\x8b(\\xc1\\x88\\xd4s\\x06\\xcc8p\\xbc\\xdc\\xc7\\xda\\xa1\\xb3\\xfaJ9* \\x1c\\x12\\xe5\\xce\\xbd\\xd2\\x03\\xae\\x95a+\\xa8\\x03\\xa7G\\xed\\x96(50]\\xcc\\x9d\\xc72\\xf3K\\xde\\xc3\\x01\\x7f\\x04\\x8f\\x8b;\\xdbLZ\\xa4\\xf0\\xecH\\xa7S\\xd5u\\x0b\\x83\\xbdT=\\x80\\xc6\\xc1K\\\\B\\x9at\\xe4\\xdd3\\xccD\\x99h\\x1d\\xdf\\xdf^1c\\x13\\xc0\\x97\\xaa\\xb4~\\xc3\\x03\\xe0\\\\\\x96\\xb9m\\xec'\n",
            "Decryption Time: 0.0015404224395751953 seconds\n",
            "Decrypted message: hello\n"
          ]
        }
      ]
    },
    {
      "cell_type": "code",
      "source": [
        "pip install pycryptodome"
      ],
      "metadata": {
        "colab": {
          "base_uri": "https://localhost:8080/"
        },
        "id": "3hud0hYlovae",
        "outputId": "6b48ea4a-0d99-47bf-de0c-89a94c01c81c"
      },
      "execution_count": null,
      "outputs": [
        {
          "output_type": "stream",
          "name": "stdout",
          "text": [
            "Collecting pycryptodome\n",
            "  Downloading pycryptodome-3.20.0-cp35-abi3-manylinux_2_17_x86_64.manylinux2014_x86_64.whl (2.1 MB)\n",
            "\u001b[2K     \u001b[90m━━━━━━━━━━━━━━━━━━━━━━━━━━━━━━━━━━━━━━━━\u001b[0m \u001b[32m2.1/2.1 MB\u001b[0m \u001b[31m13.1 MB/s\u001b[0m eta \u001b[36m0:00:00\u001b[0m\n",
            "\u001b[?25hInstalling collected packages: pycryptodome\n",
            "Successfully installed pycryptodome-3.20.0\n"
          ]
        }
      ]
    },
    {
      "cell_type": "code",
      "source": [
        "import time\n",
        "from Crypto.PublicKey import RSA\n",
        "from Crypto.Cipher import PKCS1_OAEP\n",
        "from Crypto.Random import get_random_bytes\n",
        "\n",
        "# Function to generate RSA keys\n",
        "def generate_keys():\n",
        "    start_time = time.time()\n",
        "    key = RSA.generate(2048)\n",
        "    end_time = time.time()\n",
        "    print(f\"Key Generation Time: {end_time - start_time} seconds\")\n",
        "\n",
        "    private_key = key.export_key()\n",
        "    public_key = key.publickey().export_key()\n",
        "    return private_key, public_key\n",
        "\n",
        "# Function to encrypt a message\n",
        "def encrypt_message(public_key, message):\n",
        "    start_time = time.time()\n",
        "    public_key = RSA.import_key(public_key)\n",
        "    cipher = PKCS1_OAEP.new(public_key)\n",
        "    ciphertext = cipher.encrypt(message.encode())\n",
        "    end_time = time.time()\n",
        "    print(f\"Encryption Time: {end_time - start_time} seconds\")\n",
        "    return ciphertext\n",
        "\n",
        "# Function to decrypt a message\n",
        "def decrypt_message(private_key, ciphertext):\n",
        "    start_time = time.time()\n",
        "    private_key = RSA.import_key(private_key)\n",
        "    cipher = PKCS1_OAEP.new(private_key)\n",
        "    decrypted_message = cipher.decrypt(ciphertext)\n",
        "    end_time = time.time()\n",
        "    print(f\"Decryption Time: {end_time - start_time} seconds\")\n",
        "    return decrypted_message.decode()\n",
        "\n",
        "# Main program\n",
        "def main():\n",
        "    private_key, public_key = generate_keys()\n",
        "\n",
        "    message = input(\"Enter the message to encrypt: \")\n",
        "\n",
        "    ciphertext = encrypt_message(public_key, message)\n",
        "    print(\"Encrypted message:\", ciphertext)\n",
        "\n",
        "    decrypted_message = decrypt_message(private_key, ciphertext)\n",
        "    print(\"Decrypted message:\", decrypted_message)\n",
        "\n",
        "if __name__ == \"__main__\":\n",
        "    main()\n"
      ],
      "metadata": {
        "colab": {
          "base_uri": "https://localhost:8080/"
        },
        "id": "YUh1jxHuo8fx",
        "outputId": "d737bf1c-83ec-4474-bae9-cb66b96a1ce1"
      },
      "execution_count": null,
      "outputs": [
        {
          "output_type": "stream",
          "name": "stdout",
          "text": [
            "Key Generation Time: 0.38689303398132324 seconds\n",
            "Enter the message to encrypt: hello\n",
            "Encryption Time: 0.008484840393066406 seconds\n",
            "Encrypted message: b'.\\xa3\\'\\xbc0\\x0f\\xf8zot\\xd9\\\\\\xca-Yow@d\\x9f\\xa2` \\x96\\xfb\\x0f$\\xc3\\xa99O\\x10\\xf1|\\x16\\x8a\\xf6\\xfe\\x8e\\xf7\\x89\\x83\\x9a\\xf5\\x9a\\xef\\xaaz(\\x95Y\\xe9\\x1ez\\xcd\\x95\\xa1\\x0e\\x0ff\\x00/\\x99%2\\x01N\\xdb\\xe5\\x03\\xb4\\x15F\\xdb\\xc87\"\\x92k\\x9cH\\xeb\\xd6\\xdfM4\\x9f\\x0e\\x9b\\xb3\\xef\\xc1\\xb7\\x81G\\xf8Q\\xc8\\x04#\\xed\\xb5g\\xeek\\xaa3~\\xf52\\xa7\\xc9\\xe3\\xc0\\x11\\x04\\xd8\\xf7\\x02\\xac\\xfb\\xd2^\\xf3\\x1a\\xa1\\x85\\xd7W\\xd2\\x7f\\x0cz\\rGI\\xf3D\\x8f\\x07[Z\\xe9\\x8fS**\\xb8\\x91\\xbc\\x91m\\xd2DDR\\xab\\xbd\\xba\\xf8\\xfai\\xadi+\\xce\\x1e\\xfa\\x1a\\xe43\\xac@\\xf9!\\xe0\\xfe\\xef\\x18\\xdb\\x80<\\xc7x\\xb4\\xc0r\\x05\\xafW\\xadAH\\x0f\\x0b\\x91\\x98\\xf1\\xc8#\\xbb\\x985u\\x155H\\t\\xa8\\xf3pD\\xd8 7c\\xb9\\xc0\\x153\\x01\\xf0\\x98\\x90_t0\\xd0\\xc3\\xdaMo\\xfc\\xed;\\xab\\x1b\\x8d3\\x07\\xda8\\xecgX\\x8e\\xdc\\x00\\xbb\\xb3\\xa2\\xf6\\x87Y\\x04\\x06'\n",
            "Decryption Time: 0.05525612831115723 seconds\n",
            "Decrypted message: hello\n"
          ]
        }
      ]
    },
    {
      "cell_type": "code",
      "source": [],
      "metadata": {
        "id": "RphNC-8tpB3W"
      },
      "execution_count": null,
      "outputs": []
    }
  ]
}