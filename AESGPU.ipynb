{
  "nbformat": 4,
  "nbformat_minor": 0,
  "metadata": {
    "colab": {
      "provenance": [],
      "gpuType": "T4"
    },
    "kernelspec": {
      "name": "python3",
      "display_name": "Python 3"
    },
    "language_info": {
      "name": "python"
    },
    "accelerator": "GPU"
  },
  "cells": [
    {
      "cell_type": "markdown",
      "source": [
        "**AES ALGORITHM IN GPU**"
      ],
      "metadata": {
        "id": "FRPPP6_x_74l"
      }
    },
    {
      "cell_type": "code",
      "source": [
        "!pip install pycryptodome"
      ],
      "metadata": {
        "colab": {
          "base_uri": "https://localhost:8080/"
        },
        "id": "g97azQJ2_3bM",
        "outputId": "9203def8-617f-4f3a-9e9a-67e73b8d47af"
      },
      "execution_count": null,
      "outputs": [
        {
          "output_type": "stream",
          "name": "stdout",
          "text": [
            "Collecting pycryptodome\n",
            "  Downloading pycryptodome-3.20.0-cp35-abi3-manylinux_2_17_x86_64.manylinux2014_x86_64.whl (2.1 MB)\n",
            "\u001b[2K     \u001b[90m━━━━━━━━━━━━━━━━━━━━━━━━━━━━━━━━━━━━━━━━\u001b[0m \u001b[32m2.1/2.1 MB\u001b[0m \u001b[31m12.4 MB/s\u001b[0m eta \u001b[36m0:00:00\u001b[0m\n",
            "\u001b[?25hInstalling collected packages: pycryptodome\n",
            "Successfully installed pycryptodome-3.20.0\n"
          ]
        }
      ]
    },
    {
      "cell_type": "code",
      "source": [
        "from Crypto.Cipher import AES\n",
        "from Crypto.Util.Padding import pad, unpad\n",
        "from Crypto.Random import get_random_bytes\n",
        "import time\n",
        "\n",
        "# Function to encrypt data\n",
        "def aes_encrypt(data, key):\n",
        "    cipher = AES.new(key, AES.MODE_CBC)\n",
        "    ct_bytes = cipher.encrypt(pad(data, AES.block_size))\n",
        "    iv = cipher.iv\n",
        "    return iv + ct_bytes\n",
        "\n",
        "# Function to decrypt data\n",
        "def aes_decrypt(enc_data, key):\n",
        "    iv = enc_data[:AES.block_size]\n",
        "    ct = enc_data[AES.block_size:]\n",
        "    cipher = AES.new(key, AES.MODE_CBC, iv)\n",
        "    pt = unpad(cipher.decrypt(ct), AES.block_size)\n",
        "    return pt\n",
        "\n",
        "# Test data\n",
        "data = b\"hello\"\n",
        "print(f\"Original Data: {data}\")\n",
        "\n",
        "# 128-bit key\n",
        "key_128 = get_random_bytes(16)\n",
        "start_time = time.time()\n",
        "encrypted_data_128 = aes_encrypt(data, key_128)\n",
        "encryption_time_128 = time.time() - start_time\n",
        "\n",
        "start_time = time.time()\n",
        "decrypted_data_128 = aes_decrypt(encrypted_data_128, key_128)\n",
        "decryption_time_128 = time.time() - start_time\n",
        "\n",
        "print(f\"128-bit Key: {key_128}\")\n",
        "print(f\"Encrypted Data (128-bit): {encrypted_data_128}\")\n",
        "print(f\"Decrypted Data (128-bit): {decrypted_data_128}\")\n",
        "print(f\"Encryption Time (128-bit): {encryption_time_128} seconds\")\n",
        "print(f\"Decryption Time (128-bit): {decryption_time_128} seconds\")\n",
        "\n",
        "# 192-bit key\n",
        "key_192 = get_random_bytes(24)\n",
        "start_time = time.time()\n",
        "encrypted_data_192 = aes_encrypt(data, key_192)\n",
        "encryption_time_192 = time.time() - start_time\n",
        "\n",
        "start_time = time.time()\n",
        "decrypted_data_192 = aes_decrypt(encrypted_data_192, key_192)\n",
        "decryption_time_192 = time.time() - start_time\n",
        "\n",
        "print(f\"192-bit Key: {key_192}\")\n",
        "print(f\"Encrypted Data (192-bit): {encrypted_data_192}\")\n",
        "print(f\"Decrypted Data (192-bit): {decrypted_data_192}\")\n",
        "print(f\"Encryption Time (192-bit): {encryption_time_192} seconds\")\n",
        "print(f\"Decryption Time (192-bit): {decryption_time_192} seconds\")\n",
        "\n",
        "# 256-bit key\n",
        "key_256 = get_random_bytes(32)\n",
        "start_time = time.time()\n",
        "encrypted_data_256 = aes_encrypt(data, key_256)\n",
        "encryption_time_256 = time.time() - start_time\n",
        "\n",
        "start_time = time.time()\n",
        "decrypted_data_256 = aes_decrypt(encrypted_data_256, key_256)\n",
        "decryption_time_256 = time.time() - start_time\n",
        "\n",
        "print(f\"256-bit Key: {key_256}\")\n",
        "print(f\"Encrypted Data (256-bit): {encrypted_data_256}\")\n",
        "print(f\"Decrypted Data (256-bit): {decrypted_data_256}\")\n",
        "print(f\"Encryption Time (256-bit): {encryption_time_256} seconds\")\n",
        "print(f\"Decryption Time (256-bit): {decryption_time_256} seconds\")\n"
      ],
      "metadata": {
        "colab": {
          "base_uri": "https://localhost:8080/"
        },
        "id": "hURfNXzh_9Kr",
        "outputId": "61aae51c-30f2-42e5-8d75-d55440473562"
      },
      "execution_count": null,
      "outputs": [
        {
          "output_type": "stream",
          "name": "stdout",
          "text": [
            "Original Data: b'hello'\n",
            "128-bit Key: b'\\x13!7.\\xfe\\xbay\\x1b\\xcc\\xdc\\x07\\xf8\\x01\\xe1\\x1e\\xab'\n",
            "Encrypted Data (128-bit): b'\\x98c$\\x0b}t\"b\\xa67\\xe5\\x80I<\\xd3\\x07\\xd6\\xb6\\xf7\\x87$\\xae0\\xa41r\\xf5%\\x15\\xd0\\x89\\x03'\n",
            "Decrypted Data (128-bit): b'hello'\n",
            "Encryption Time (128-bit): 0.00023031234741210938 seconds\n",
            "Decryption Time (128-bit): 0.0001494884490966797 seconds\n",
            "192-bit Key: b'\\xd7\\xbe\\x88\\xceD\\xc7\\xf6;\\xba-\\x1f\"\\x18@\\xc4\\xbb\\t)\\xaaG\\xe0\\xe9&\\x17'\n",
            "Encrypted Data (192-bit): b'\\xa8\\xdd\\xeb\\x16\\xa1_\\xaf K\\xda\\x05+\\xd8H\\xdd\\x85d\\xa9\\xadr>\\xde\\x04Q\\xdb\\xa3\\x81y\\xba1\\x8ee'\n",
            "Decrypted Data (192-bit): b'hello'\n",
            "Encryption Time (192-bit): 0.000171661376953125 seconds\n",
            "Decryption Time (192-bit): 0.00017142295837402344 seconds\n",
            "256-bit Key: b'vC\\x067\\x94\\xd5\\xbb\\xb2^M\\xed\\x9f\\xc2\\x87o\"\\xba\\xd7\\xfa\\n@\\xdb\\xaa\\x93=KJ)\\x11\\xa4\\xdd\\x06'\n",
            "Encrypted Data (256-bit): b'^\\xb1\\xa6\\xc7\\xd5\\xf4,/\\x80\\xbb7 \\xea\\xcb;\\x14\\xa5\\x02\\xd5\\x94\\x19\\xcb\\xab\\xfe}\\x12\\x88\\xec\\xe37\\x92N'\n",
            "Decrypted Data (256-bit): b'hello'\n",
            "Encryption Time (256-bit): 0.0001697540283203125 seconds\n",
            "Decryption Time (256-bit): 0.0001628398895263672 seconds\n"
          ]
        }
      ]
    },
    {
      "cell_type": "code",
      "source": [],
      "metadata": {
        "id": "U3OS77-1ABqZ"
      },
      "execution_count": null,
      "outputs": []
    }
  ]
}